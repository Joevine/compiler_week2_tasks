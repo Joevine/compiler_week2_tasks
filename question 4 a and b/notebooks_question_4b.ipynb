{
  "metadata": {
    "kernelspec": {
      "name": "python",
      "display_name": "Python (Pyodide)",
      "language": "python"
    },
    "language_info": {
      "codemirror_mode": {
        "name": "python",
        "version": 3
      },
      "file_extension": ".py",
      "mimetype": "text/x-python",
      "name": "python",
      "nbconvert_exporter": "python",
      "pygments_lexer": "ipython3",
      "version": "3.8"
    }
  },
  "nbformat_minor": 5,
  "nbformat": 4,
  "cells": [
    {
      "cell_type": "code",
      "source": "def precedence(operator):\n    # Determine the precedence of an operator.\n    if operator in ('+', '-'):\n        return 1\n    elif operator in ('*', '/'):\n        return 2\n    return 0\n\ndef apply_operator(operators, values):\n    # Apply an operator to the top two values on the values stack.\n    operator = operators.pop()\n    right = values.pop()\n    left = values.pop()\n\n    if operator == '+':\n        values.append(left + right)\n    elif operator == '-':\n        values.append(left - right)\n    elif operator == '*':\n        values.append(left * right)\n    elif operator == '/':\n        if right == 0:\n            raise ValueError(\"Division by zero\")\n        values.append(left / right)\n\ndef parse_expression(expression):\n    # Parse and evaluate an arithmetic expression using operator precedence parsing.\n    operators = []  # Stack to hold operators\n    values = []     # Stack to hold values (operands)\n\n    i = 0\n    while i < len(expression):\n        # Skip whitespace\n        if expression[i].isspace():\n            i += 1\n            continue\n\n        # If the current character is a digit or a decimal point, parse a number\n        if expression[i].isdigit() or (expression[i] == '.' and (i == 0 or expression[i - 1].isdigit())):\n            j = i\n            while j < len(expression) and (expression[j].isdigit() or expression[j] == '.'):\n                j += 1\n            values.append(float(expression[i:j]))\n            i = j\n\n        # If the current character is an operator (+, -, *, /), handle it\n        elif expression[i] in ('+', '-', '*', '/'):\n            # Handle operators with higher precedence on the stack\n            while (operators and operators[-1] in ('+', '-', '*', '/') and\n                   precedence(operators[-1]) >= precedence(expression[i])):\n                apply_operator(operators, values)\n            operators.append(expression[i])\n            i += 1\n\n        # If the current character is an opening parenthesis, push it onto the stack\n        elif expression[i] == '(':\n            operators.append(expression[i])\n            i += 1\n\n        # If the current character is a closing parenthesis, apply operators until an opening parenthesis is encountered\n        elif expression[i] == ')':\n            while operators and operators[-1] != '(':\n                apply_operator(operators, values)\n            if not operators:\n                raise ValueError(\"Mismatched parentheses\")\n            operators.pop()  # Remove the opening parenthesis\n            i += 1\n\n        else:\n            raise ValueError(f\"Invalid character: {expression[i]}\")\n\n    # Apply any remaining operators\n    while operators:\n        if operators[-1] == '(':\n            raise ValueError(\"Mismatched parentheses\")\n        apply_operator(operators, values)\n\n    # The result should be the only item left on the values stack\n    if len(values) != 1:\n        raise ValueError(\"Invalid expression\")\n    return values[0]\n\nif __name__ == \"__main__\":\n    expression = input(\"Enter an arithmetic expression: \")\n    try:\n        result = parse_expression(expression)\n        print(f\"Result: {result}\")\n    except ValueError as e:\n        print(f\"Error: {e}\")\n        \n# The program takes an arithmetic expression as input, parses it using operator precedence resolution,\n# and evaluates the expression to compute the result. It handles numbers, operators (+, -, *, /), \n# parentheses, and checks for errors (such as division by zero or mismatched parentheses).        \n",
      "metadata": {},
      "execution_count": null,
      "outputs": [],
      "id": "0af97735-79ea-4b07-8ddd-7d449ab9fa2b"
    },
    {
      "cell_type": "code",
      "source": "",
      "metadata": {},
      "execution_count": null,
      "outputs": [],
      "id": "db499aa7-cb43-49e3-8f89-d0ed7a7c7882"
    },
    {
      "cell_type": "code",
      "source": "",
      "metadata": {},
      "execution_count": null,
      "outputs": [],
      "id": "6aa7dd41-801a-428f-a416-1e1f3b8213a6"
    }
  ]
}