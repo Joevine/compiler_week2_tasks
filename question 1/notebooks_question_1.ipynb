{
  "metadata": {
    "kernelspec": {
      "name": "python",
      "display_name": "Python (Pyodide)",
      "language": "python"
    },
    "language_info": {
      "codemirror_mode": {
        "name": "python",
        "version": 3
      },
      "file_extension": ".py",
      "mimetype": "text/x-python",
      "name": "python",
      "nbconvert_exporter": "python",
      "pygments_lexer": "ipython3",
      "version": "3.8"
    }
  },
  "nbformat_minor": 5,
  "nbformat": 4,
  "cells": [
    {
      "cell_type": "code",
      "source": "def classify_lines(context.py):\n    with open(context.py, 'r') as file:\n        lines = file.readlines()\n    \n    result = []\n    \n    for line in lines:\n        line = line.strip()\n        if line.startswith('#'):\n            result.append((line, \"Comment\"))\n        else:\n            result.append((line, \"Code\"))\n\n    return result\n\nif __name__ == \"__main__\":\n    filename = \"context.py\" \n    lines = classify_lines(filename)\n\n    for line, classification in lines:\n        print(f\"{classification}: {line}\")\n\n# logical description\n# The program first uses the open function to open the specified Python program file.\n# It then reads the file line by line using the readlines() method and stores the lines in a line list. It then iterates through each row in the list, stripping out any leading and trailing whitespace using the defined strip() method.\n# For each line, it uses the startswith() method to check if it starts with the \"#\" character, which represents a comment.\n# If a line starts with a \"#\" symbol or character, it is classified as a comment, if not, it is classified as code.\n# The results are stored in a list of tuples, where each tuple contains the row and its classification.\n\n# ii. \n# Lexical analysis usually involves breaking the source code into tokens (e.g. keywords, identifiers, operators), but these are not required for this task.\n# Syntax analysis involves checking the structure and correctness of the code, which is not necessary here either.\n# For the above case, we use basic string manipulation (startswith()) method and string classification to determine whether a line is a comment or code. We do not analyze the context of the code or its meaning.\n\n\n",
      "metadata": {},
      "execution_count": null,
      "outputs": [],
      "id": "64139464-5d94-4c56-9d77-9d9544a0e6a9"
    },
    {
      "cell_type": "code",
      "source": "",
      "metadata": {},
      "execution_count": null,
      "outputs": [],
      "id": "0af97735-79ea-4b07-8ddd-7d449ab9fa2b"
    }
  ]
}