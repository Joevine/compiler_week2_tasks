{
  "metadata": {
    "kernelspec": {
      "name": "python",
      "display_name": "Python (Pyodide)",
      "language": "python"
    },
    "language_info": {
      "codemirror_mode": {
        "name": "python",
        "version": 3
      },
      "file_extension": ".py",
      "mimetype": "text/x-python",
      "name": "python",
      "nbconvert_exporter": "python",
      "pygments_lexer": "ipython3",
      "version": "3.8"
    }
  },
  "nbformat_minor": 5,
  "nbformat": 4,
  "cells": [
    {
      "cell_type": "code",
      "source": "class LL1Parser:\n    def __init__(self, grammar):\n        self.grammar = grammar\n        self.non_terminals = set()\n        self.terminals = set()\n        self.first_sets = {}\n        self.follow_sets = {}\n        self.parsing_table = {}\n\n    def compute_first_sets(self):\n        # Initialize first sets\n        for non_terminal in self.grammar.keys():\n            self.first_sets[non_terminal] = set()\n\n        # Calculate first sets iteratively\n        while True:\n            prev_first_sets = {key: value.copy() for key, value in self.first_sets.items()}\n\n            for non_terminal, productions in self.grammar.items():\n                for production in productions:\n                    first_symbol = production[0]\n\n                    if first_symbol in self.terminals:\n                        self.first_sets[non_terminal].add(first_symbol)\n                    elif first_symbol in self.non_terminals:\n                        self.first_sets[non_terminal].update(self.first_sets[first_symbol])\n\n            if prev_first_sets == self.first_sets:\n                break\n\n    def compute_follow_sets(self, start_symbol):\n        # Initialize follow sets\n        for non_terminal in self.grammar.keys():\n            self.follow_sets[non_terminal] = set()\n\n        # Add $ (end of input) to the follow set of the start symbol\n        self.follow_sets[start_symbol].add('$')\n\n        # Calculate follow sets iteratively\n        while True:\n            prev_follow_sets = {key: value.copy() for key, value in self.follow_sets.items()}\n\n            for non_terminal, productions in self.grammar.items():\n                for production in productions:\n                    for i, symbol in enumerate(production):\n                        if symbol in self.non_terminals:\n                            if i < len(production) - 1:\n                                next_symbol = production[i + 1]\n                                if next_symbol in self.terminals:\n                                    self.follow_sets[symbol].add(next_symbol)\n                                else:\n                                    self.follow_sets[symbol].update(self.first_sets[next_symbol])\n                            else:\n                                self.follow_sets[symbol].update(self.follow_sets[non_terminal])\n\n            if prev_follow_sets == self.follow_sets:\n                break\n\n    def construct_parsing_table(self):\n        for non_terminal, productions in self.grammar.items():\n            for production in productions:\n                first_set = self.compute_production_first_set(production)\n                for terminal in first_set:\n                    if terminal != 'ε':\n                        self.parsing_table[(non_terminal, terminal)] = production\n                if 'ε' in first_set:\n                    follow_set = self.follow_sets[non_terminal]\n                    for terminal in follow_set:\n                        self.parsing_table[(non_terminal, terminal)] = production\n\n    def compute_production_first_set(self, production):\n        first_set = set()\n        for symbol in production:\n            if symbol in self.terminals:\n                first_set.add(symbol)\n                break\n            elif symbol in self.non_terminals:\n                first_set.update(self.first_sets[symbol])\n                if 'ε' not in self.first_sets[symbol]:\n                    break\n        return first_set\n\n    def print_parsing_table(self):\n        for key, value in self.parsing_table.items():\n            print(f\"M[{key[0]}, {key[1]}] = {value}\")\n\n    def construct_ll1_parsing_table(self, start_symbol):\n        self.non_terminals = set(self.grammar.keys())\n        self.terminals = set(\n            symbol\n            for productions in self.grammar.values()\n            for production in productions\n            for symbol in production\n            if symbol not in self.non_terminals\n        )\n\n        self.compute_first_sets()\n        self.compute_follow_sets(start_symbol)\n        self.construct_parsing_table()\n\n\nif __name__ == \"__main__\":\n    # Defined CFG:\n    grammar = {\n       \n    'E' : ['E + T' ,'E - T' , 'T'],\n    'T' : ['T * F', 'T / F', 'F'],\n    'F' : ['F ^ G', 'G']\n    }\n    \n\n\n    start_symbol = 'E'\n\n    parser = LL1Parser(grammar)\n    parser.construct_ll1_parsing_table(start_symbol)\n    parser.print_parsing_table()\n",
      "metadata": {},
      "execution_count": null,
      "outputs": [],
      "id": "0af97735-79ea-4b07-8ddd-7d449ab9fa2b"
    },
    {
      "cell_type": "code",
      "source": "",
      "metadata": {},
      "execution_count": null,
      "outputs": [],
      "id": "db499aa7-cb43-49e3-8f89-d0ed7a7c7882"
    },
    {
      "cell_type": "code",
      "source": "",
      "metadata": {},
      "execution_count": null,
      "outputs": [],
      "id": "6aa7dd41-801a-428f-a416-1e1f3b8213a6"
    }
  ]
}